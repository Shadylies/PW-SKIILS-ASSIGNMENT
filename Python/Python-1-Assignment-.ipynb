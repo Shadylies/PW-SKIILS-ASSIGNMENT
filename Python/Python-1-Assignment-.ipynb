{
 "cells": [
  {
   "cell_type": "code",
   "execution_count": 1,
   "id": "fe51d159",
   "metadata": {},
   "outputs": [],
   "source": [
    "#Q1. Explain with an example each when to use a for loop and a while loop."
   ]
  },
  {
   "cell_type": "code",
   "execution_count": 2,
   "id": "3ed5635c",
   "metadata": {},
   "outputs": [
    {
     "name": "stdout",
     "output_type": "stream",
     "text": [
      "hello\n",
      "hello\n",
      "hello\n",
      "hello\n",
      "hello\n"
     ]
    }
   ],
   "source": [
    "# for loop\n",
    "\n",
    "for i in range(0,5):\n",
    "    print(\"hello\")"
   ]
  },
  {
   "cell_type": "code",
   "execution_count": 3,
   "id": "1055aed1",
   "metadata": {},
   "outputs": [
    {
     "name": "stdout",
     "output_type": "stream",
     "text": [
      "1\n",
      "2\n",
      "3\n",
      "4\n",
      "5\n"
     ]
    }
   ],
   "source": [
    "# While Loop\n",
    "i = 1\n",
    "n = 5\n",
    "\n",
    "# while loop from i = 1 to 5\n",
    "while i <= n:\n",
    "    print(i)\n",
    "    i = i + 1"
   ]
  },
  {
   "cell_type": "code",
   "execution_count": null,
   "id": "471c9a98",
   "metadata": {},
   "outputs": [],
   "source": [
    "#  # Q2. Write a python program to print the sum and product of the first 10 natural numbers using for\n",
    "# and while loop."
   ]
  },
  {
   "cell_type": "code",
   "execution_count": 77,
   "id": "bb66badf",
   "metadata": {},
   "outputs": [
    {
     "name": "stdout",
     "output_type": "stream",
     "text": [
      "The sum is 55\n",
      "The Prodct is 3628800\n"
     ]
    }
   ],
   "source": [
    "# For Loop\n",
    "sums = 0\n",
    "product = 1\n",
    "for i in range(1,11):\n",
    "    sums= sums + i\n",
    "    product = product * i\n",
    "print(\"The sum is\", sums)\n",
    "print(\"The Prodct is\", product)"
   ]
  },
  {
   "cell_type": "code",
   "execution_count": 78,
   "id": "d057bc2d",
   "metadata": {},
   "outputs": [
    {
     "name": "stdout",
     "output_type": "stream",
     "text": [
      "sum of 10 nos are: 55\n",
      "product of 10 nos are: 3628800\n"
     ]
    }
   ],
   "source": [
    "#while loop\n",
    "sum=0\n",
    "products =1\n",
    "i=1\n",
    "while (i<11):\n",
    "    sum = sum+i\n",
    "    products = products*i\n",
    "    i +=1\n",
    "print(\"sum of 10 nos are:\",sum)\n",
    "print(\"product of 10 nos are:\",products)"
   ]
  },
  {
   "cell_type": "code",
   "execution_count": 19,
   "id": "2c2b54c2",
   "metadata": {},
   "outputs": [],
   "source": [
    "# #Q4. Create a list of numbers from 1 to 100. Use for loop and while loop to calculate the cube of each\n",
    "# number and if the cube of that number is divisible by 4 or 5 then append that number in a list and print\n",
    "# that list.\n"
   ]
  },
  {
   "cell_type": "code",
   "execution_count": null,
   "id": "980abb1b",
   "metadata": {},
   "outputs": [],
   "source": []
  },
  {
   "cell_type": "code",
   "execution_count": 83,
   "id": "3d6fb3e8",
   "metadata": {},
   "outputs": [
    {
     "name": "stdout",
     "output_type": "stream",
     "text": [
      "[2, 4, 5, 6, 8, 10, 12, 14, 15, 16, 18, 20, 22, 24, 25, 26, 28, 30, 32, 34, 35, 36, 38, 40, 42, 44, 45, 46, 48, 50, 52, 54, 55, 56, 58, 60, 62, 64, 65, 66, 68, 70, 72, 74, 75, 76, 78, 80, 82, 84, 85, 86, 88, 90, 92, 94, 95, 96, 98, 100]\n"
     ]
    }
   ],
   "source": [
    "#for loop\n",
    "l = list(range(1,101))\n",
    "\n",
    "newlist =[]\n",
    "\n",
    "for i in l:\n",
    "    c= i**3\n",
    "    if c %4 ==0 or c%5==0:\n",
    "        newlist.append(i)\n",
    "print(newlist)"
   ]
  },
  {
   "cell_type": "code",
   "execution_count": 84,
   "id": "453d6ed2",
   "metadata": {},
   "outputs": [
    {
     "name": "stdout",
     "output_type": "stream",
     "text": [
      "[2, 4, 5, 6, 8, 10, 12, 14, 15, 16, 18, 20, 22, 24, 25, 26, 28, 30, 32, 34, 35, 36, 38, 40, 42, 44, 45, 46, 48, 50, 52, 54, 55, 56, 58, 60, 62, 64, 65, 66, 68, 70, 72, 74, 75, 76, 78, 80, 82, 84, 85, 86, 88, 90, 92, 94, 95, 96, 98, 100]\n"
     ]
    }
   ],
   "source": [
    "#while loop\n",
    "newlist2 =[]\n",
    "i =1\n",
    "while i <= len(l):\n",
    "    c = i**3\n",
    "    if c%4 ==0 or c%5 ==0:\n",
    "        newlist2.append(i)\n",
    "    i+=1\n",
    "print(newlist2)"
   ]
  },
  {
   "cell_type": "code",
   "execution_count": 34,
   "id": "0bf785a1",
   "metadata": {},
   "outputs": [],
   "source": [
    "#  Q5 Write a program to filter count vowels in the below-given string.\n",
    "    string = \"I want to become a data scientist\""
   ]
  },
  {
   "cell_type": "code",
   "execution_count": 85,
   "id": "71c8b7e6",
   "metadata": {},
   "outputs": [],
   "source": [
    "count = 0\n",
    "vowels = [\"a\", \"e\", \"i\", \"o\", \"u\"]\n",
    "for character in string:\n",
    "       if character in vowels:\n",
    "        count += 1\n",
    "\n"
   ]
  },
  {
   "cell_type": "code",
   "execution_count": 71,
   "id": "41edd483",
   "metadata": {},
   "outputs": [
    {
     "data": {
      "text/plain": [
       "11"
      ]
     },
     "execution_count": 71,
     "metadata": {},
     "output_type": "execute_result"
    }
   ],
   "source": [
    "count\n"
   ]
  },
  {
   "cell_type": "code",
   "execution_count": 86,
   "id": "ce0e5412",
   "metadata": {},
   "outputs": [],
   "source": [
    "# Q3. Create a python program to compute the electricity bill for a household. The per-unit charges in rupees are as follows: For the first 100 units, the user will be charged Rs. 4.5 per unit, for the next 100 units, the user will be charged Rs. 6 per unit, and for the next 100 units, the user will be charged Rs. 10 per unit, After 300 units and above the user will be charged Rs. 20 per unit. Your program must pass this test case: when the unit of electricity consumed by the user in a month is 310, the total electricity bill should be 2250.\n"
   ]
  },
  {
   "cell_type": "code",
   "execution_count": 87,
   "id": "44b39ab7",
   "metadata": {},
   "outputs": [
    {
     "name": "stdout",
     "output_type": "stream",
     "text": [
      "Enter Units: 310\n",
      "Total Electricity Bill Rs.2250\n"
     ]
    }
   ],
   "source": [
    "units = int(input('Enter Units: '))\n",
    "bill = 0\n",
    "if units <= 100:\n",
    "    bill += 4.5*units\n",
    "    units -= 100\n",
    "elif units > 100 and units <= 200:\n",
    "    bill += 450\n",
    "    units -= 100\n",
    "    bill += 6*units\n",
    "elif units > 200 and units <= 300:\n",
    "    bill += 450+600\n",
    "    units -= 200\n",
    "    bill += 10*units\n",
    "elif units > 300:\n",
    "    bill += 450+600+1000\n",
    "    units -= 300\n",
    "    bill += 20*units\n",
    "print(f'Total Electricity Bill Rs.{bill}')"
   ]
  },
  {
   "cell_type": "code",
   "execution_count": null,
   "id": "a584e7ff",
   "metadata": {},
   "outputs": [],
   "source": []
  }
 ],
 "metadata": {
  "kernelspec": {
   "display_name": "Python 3 (ipykernel)",
   "language": "python",
   "name": "python3"
  },
  "language_info": {
   "codemirror_mode": {
    "name": "ipython",
    "version": 3
   },
   "file_extension": ".py",
   "mimetype": "text/x-python",
   "name": "python",
   "nbconvert_exporter": "python",
   "pygments_lexer": "ipython3",
   "version": "3.9.13"
  }
 },
 "nbformat": 4,
 "nbformat_minor": 5
}
